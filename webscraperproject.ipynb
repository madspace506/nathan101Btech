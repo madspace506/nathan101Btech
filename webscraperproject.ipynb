{
  "nbformat": 4,
  "nbformat_minor": 0,
  "metadata": {
    "colab": {
      "provenance": [],
      "authorship_tag": "ABX9TyMrbP0XyPxR9OuhTfSMNQoI"
    },
    "kernelspec": {
      "name": "python3",
      "display_name": "Python 3"
    },
    "language_info": {
      "name": "python"
    }
  },
  "cells": [
    {
      "cell_type": "code",
      "execution_count": 1,
      "metadata": {
        "id": "ozKZM_zM0VZH"
      },
      "outputs": [],
      "source": [
        "import pandas as pd\n",
        "import requests\n",
        "from bs4 import BeautifulSoup"
      ]
    },
    {
      "cell_type": "code",
      "source": [
        "response=requests.get('https://btech-data-analytics.github.io/bridgerland-technical-college/bookstore.html').text"
      ],
      "metadata": {
        "id": "is7923Md0Z0y"
      },
      "execution_count": 2,
      "outputs": []
    },
    {
      "cell_type": "code",
      "source": [
        "soup= BeautifulSoup(response, 'html.parser')"
      ],
      "metadata": {
        "id": "nQizsW4P0mRl"
      },
      "execution_count": 3,
      "outputs": []
    },
    {
      "cell_type": "code",
      "source": [
        "ISBN=[]\n",
        "Title=[]\n",
        "Author=[]\n",
        "Language=[]\n",
        "Pages=[]\n",
        "Topic=[]\n",
        "Price=[]\n",
        "for book in soup.find('table').find_all('tr',class_='book'):\n",
        "  ISBN.append(book.find_all('td')[0].text)\n",
        "  Title.append(book.find_all('td')[1].text)\n",
        "  Author.append(book.find_all('td')[2].text)\n",
        "  Language.append(book.find_all('td')[3].text)\n",
        "  Pages.append(book.find_all('td')[4].text)\n",
        "  Topic.append(book.find_all('td')[5].text)\n",
        "  Price.append(book.find_all('td')[6].text)\n"
      ],
      "metadata": {
        "id": "0vKrRMdF1OJa"
      },
      "execution_count": 4,
      "outputs": []
    },
    {
      "cell_type": "code",
      "source": [
        "ISBN"
      ],
      "metadata": {
        "colab": {
          "base_uri": "https://localhost:8080/"
        },
        "id": "kDyC4XwmFGEL",
        "outputId": "0b9c54b3-2129-404f-df44-37426afb8e43"
      },
      "execution_count": 5,
      "outputs": [
        {
          "output_type": "execute_result",
          "data": {
            "text/plain": [
              "['978-1234567890',\n",
              " '978-2345678901',\n",
              " '978-3456789012',\n",
              " '978-4567890123',\n",
              " '978-5678901234',\n",
              " '978-6789012345',\n",
              " '978-7890123456',\n",
              " '978-8901234567',\n",
              " '978-9012345678',\n",
              " '978-0123456789',\n",
              " '978-1234567890',\n",
              " '978-2345678901',\n",
              " '978-3456789012',\n",
              " '978-4567890123',\n",
              " '978-5678901234']"
            ]
          },
          "metadata": {},
          "execution_count": 5
        }
      ]
    },
    {
      "cell_type": "code",
      "source": [
        "Title"
      ],
      "metadata": {
        "colab": {
          "base_uri": "https://localhost:8080/"
        },
        "id": "Yd7CnHVtImKs",
        "outputId": "f2d5acd9-01b5-4df5-cd9d-f187207470e0"
      },
      "execution_count": 6,
      "outputs": [
        {
          "output_type": "execute_result",
          "data": {
            "text/plain": [
              "['Whiskers of Wisdom: Tales from Feline Philosophers',\n",
              " \"Purrfectly Pawesome: A Cat's Life\",\n",
              " 'Cat Tales: Adventures in Whiskerland',\n",
              " 'The Enigmatic Paws: Mysteries of Meowville',\n",
              " 'Cats in Wonderland',\n",
              " 'Whisker Wisdom: Life Lessons from Feline Sages',\n",
              " 'Catnip Chronicles: A Purrfect Journey',\n",
              " 'Cat-astrophe: Tales of Misadventures',\n",
              " \"The Cat's Whisker: A Feline Fantasy\",\n",
              " 'Fur and Friendship: Stories of Feline Companions',\n",
              " 'Tails of Loyalty: Canine Chronicles',\n",
              " \"Pawsitive Adventures: A Dog's Journey\",\n",
              " 'Barking Wisdom: Lessons from Wise Canines',\n",
              " 'Dogged Determination: Stories of Resilient Pooches',\n",
              " 'The Bark Brigade: Canine Heroes Among Us']"
            ]
          },
          "metadata": {},
          "execution_count": 6
        }
      ]
    },
    {
      "cell_type": "code",
      "source": [
        "Author"
      ],
      "metadata": {
        "colab": {
          "base_uri": "https://localhost:8080/"
        },
        "id": "uw3i7kcfJfNv",
        "outputId": "7f6f5ea9-d646-423f-8a07-b70da4757aa2"
      },
      "execution_count": 7,
      "outputs": [
        {
          "output_type": "execute_result",
          "data": {
            "text/plain": [
              "['Penelope Wainwright',\n",
              " 'Jasper Sterling',\n",
              " 'Penelope Wainwright',\n",
              " 'Maximilian Thorne',\n",
              " 'Isadora Harrington',\n",
              " 'Penelope Wainwright',\n",
              " 'Jasper Sterling',\n",
              " 'Celeste Nightshade',\n",
              " 'Penelope Wainwright',\n",
              " 'Seraphina Montague',\n",
              " 'Benjamin Barkley',\n",
              " 'Sophie Shepherd',\n",
              " 'Oliver Obedience',\n",
              " 'Ruby Ruffington',\n",
              " 'Benjamin Barkley']"
            ]
          },
          "metadata": {},
          "execution_count": 7
        }
      ]
    },
    {
      "cell_type": "code",
      "source": [
        "Language"
      ],
      "metadata": {
        "colab": {
          "base_uri": "https://localhost:8080/"
        },
        "id": "S_2xO4YKJkfn",
        "outputId": "b9d8a87c-536c-402c-cfba-901c471fe33c"
      },
      "execution_count": 8,
      "outputs": [
        {
          "output_type": "execute_result",
          "data": {
            "text/plain": [
              "['English',\n",
              " 'English',\n",
              " 'English',\n",
              " 'English',\n",
              " 'English',\n",
              " 'English',\n",
              " 'English',\n",
              " 'English',\n",
              " 'English',\n",
              " 'English',\n",
              " 'English',\n",
              " 'English',\n",
              " 'English',\n",
              " 'English',\n",
              " 'English']"
            ]
          },
          "metadata": {},
          "execution_count": 8
        }
      ]
    },
    {
      "cell_type": "code",
      "source": [
        "Pages"
      ],
      "metadata": {
        "colab": {
          "base_uri": "https://localhost:8080/"
        },
        "id": "k32q-GU1JvT2",
        "outputId": "27a5954c-4300-4742-c35f-b33e2620edc2"
      },
      "execution_count": 9,
      "outputs": [
        {
          "output_type": "execute_result",
          "data": {
            "text/plain": [
              "['256',\n",
              " '192',\n",
              " '320',\n",
              " '288',\n",
              " '224',\n",
              " '288',\n",
              " '192',\n",
              " '240',\n",
              " '208',\n",
              " '176',\n",
              " '256',\n",
              " '192',\n",
              " '320',\n",
              " '288',\n",
              " '224']"
            ]
          },
          "metadata": {},
          "execution_count": 9
        }
      ]
    },
    {
      "cell_type": "code",
      "source": [
        "Topic"
      ],
      "metadata": {
        "colab": {
          "base_uri": "https://localhost:8080/"
        },
        "id": "ml7AWiN5JzUt",
        "outputId": "342e15ac-5327-4214-fe89-2442d6c5d1a1"
      },
      "execution_count": 10,
      "outputs": [
        {
          "output_type": "execute_result",
          "data": {
            "text/plain": [
              "['Cats',\n",
              " 'Cats',\n",
              " 'Cats',\n",
              " 'Cats',\n",
              " 'Cats',\n",
              " 'Cats',\n",
              " 'Cats',\n",
              " 'Cats',\n",
              " 'Cats',\n",
              " 'Cats',\n",
              " 'Dogs',\n",
              " 'Dogs',\n",
              " 'Dogs',\n",
              " 'Dogs',\n",
              " 'Dogs']"
            ]
          },
          "metadata": {},
          "execution_count": 10
        }
      ]
    },
    {
      "cell_type": "code",
      "source": [
        "Price"
      ],
      "metadata": {
        "colab": {
          "base_uri": "https://localhost:8080/"
        },
        "id": "YZ2kPDNXLUrE",
        "outputId": "679f19c5-f63d-4d7e-eac4-09399e786454"
      },
      "execution_count": 11,
      "outputs": [
        {
          "output_type": "execute_result",
          "data": {
            "text/plain": [
              "['$19.99',\n",
              " '$15.99',\n",
              " '$21.99',\n",
              " '$17.99',\n",
              " '$16.99',\n",
              " '$20.99',\n",
              " '$14.99',\n",
              " '$18.99',\n",
              " '$16.99',\n",
              " '$12.99',\n",
              " '$29.99',\n",
              " '$25.99',\n",
              " '$21.99',\n",
              " '$27.99',\n",
              " '$26.99']"
            ]
          },
          "metadata": {},
          "execution_count": 11
        }
      ]
    },
    {
      "cell_type": "code",
      "source": [
        "df=pd.DataFrame({\n",
        "    'ISBN':ISBN,\n",
        "    'Title':Title,\n",
        "    'Author':Author,\n",
        "    'Language':Language,\n",
        "    'Pages':Pages,\n",
        "    'Topic':Topic,\n",
        "    'Price':Price\n",
        "})\n"
      ],
      "metadata": {
        "id": "ulzLTkXdMbmb"
      },
      "execution_count": 12,
      "outputs": []
    },
    {
      "cell_type": "code",
      "source": [
        "df.info()"
      ],
      "metadata": {
        "colab": {
          "base_uri": "https://localhost:8080/"
        },
        "id": "eMjILVZAQK-b",
        "outputId": "5d7bb33b-e400-49af-b136-58e3f4e7c929"
      },
      "execution_count": 13,
      "outputs": [
        {
          "output_type": "stream",
          "name": "stdout",
          "text": [
            "<class 'pandas.core.frame.DataFrame'>\n",
            "RangeIndex: 15 entries, 0 to 14\n",
            "Data columns (total 7 columns):\n",
            " #   Column    Non-Null Count  Dtype \n",
            "---  ------    --------------  ----- \n",
            " 0   ISBN      15 non-null     object\n",
            " 1   Title     15 non-null     object\n",
            " 2   Author    15 non-null     object\n",
            " 3   Language  15 non-null     object\n",
            " 4   Pages     15 non-null     object\n",
            " 5   Topic     15 non-null     object\n",
            " 6   Price     15 non-null     object\n",
            "dtypes: object(7)\n",
            "memory usage: 972.0+ bytes\n"
          ]
        }
      ]
    },
    {
      "cell_type": "code",
      "source": [
        "df['Pages'] = df['Pages'].astype(int)"
      ],
      "metadata": {
        "id": "SCnsFBFcQdy2"
      },
      "execution_count": 14,
      "outputs": []
    },
    {
      "cell_type": "code",
      "source": [
        "df['Price'] = df['Price'].str[1:10].astype(float)"
      ],
      "metadata": {
        "id": "NoaC6PMXQpBf"
      },
      "execution_count": 23,
      "outputs": []
    },
    {
      "cell_type": "code",
      "source": [
        "df['Price'].mean()"
      ],
      "metadata": {
        "colab": {
          "base_uri": "https://localhost:8080/"
        },
        "id": "iIpe9bdTSFWw",
        "outputId": "6ba3f956-9b87-45a6-c5c1-13920a849d26"
      },
      "execution_count": 24,
      "outputs": [
        {
          "output_type": "execute_result",
          "data": {
            "text/plain": [
              "np.float64(20.723333333333336)"
            ]
          },
          "metadata": {},
          "execution_count": 24
        }
      ]
    },
    {
      "cell_type": "code",
      "source": [
        "df['Author'].value_counts()"
      ],
      "metadata": {
        "colab": {
          "base_uri": "https://localhost:8080/",
          "height": 429
        },
        "id": "ObJiaKQlSatM",
        "outputId": "e27c1d81-3391-4aa0-f40d-40240b68afcc"
      },
      "execution_count": 30,
      "outputs": [
        {
          "output_type": "execute_result",
          "data": {
            "text/plain": [
              "Author\n",
              "Penelope Wainwright    4\n",
              "Jasper Sterling        2\n",
              "Benjamin Barkley       2\n",
              "Maximilian Thorne      1\n",
              "Celeste Nightshade     1\n",
              "Isadora Harrington     1\n",
              "Seraphina Montague     1\n",
              "Sophie Shepherd        1\n",
              "Oliver Obedience       1\n",
              "Ruby Ruffington        1\n",
              "Name: count, dtype: int64"
            ],
            "text/html": [
              "<div>\n",
              "<style scoped>\n",
              "    .dataframe tbody tr th:only-of-type {\n",
              "        vertical-align: middle;\n",
              "    }\n",
              "\n",
              "    .dataframe tbody tr th {\n",
              "        vertical-align: top;\n",
              "    }\n",
              "\n",
              "    .dataframe thead th {\n",
              "        text-align: right;\n",
              "    }\n",
              "</style>\n",
              "<table border=\"1\" class=\"dataframe\">\n",
              "  <thead>\n",
              "    <tr style=\"text-align: right;\">\n",
              "      <th></th>\n",
              "      <th>count</th>\n",
              "    </tr>\n",
              "    <tr>\n",
              "      <th>Author</th>\n",
              "      <th></th>\n",
              "    </tr>\n",
              "  </thead>\n",
              "  <tbody>\n",
              "    <tr>\n",
              "      <th>Penelope Wainwright</th>\n",
              "      <td>4</td>\n",
              "    </tr>\n",
              "    <tr>\n",
              "      <th>Jasper Sterling</th>\n",
              "      <td>2</td>\n",
              "    </tr>\n",
              "    <tr>\n",
              "      <th>Benjamin Barkley</th>\n",
              "      <td>2</td>\n",
              "    </tr>\n",
              "    <tr>\n",
              "      <th>Maximilian Thorne</th>\n",
              "      <td>1</td>\n",
              "    </tr>\n",
              "    <tr>\n",
              "      <th>Celeste Nightshade</th>\n",
              "      <td>1</td>\n",
              "    </tr>\n",
              "    <tr>\n",
              "      <th>Isadora Harrington</th>\n",
              "      <td>1</td>\n",
              "    </tr>\n",
              "    <tr>\n",
              "      <th>Seraphina Montague</th>\n",
              "      <td>1</td>\n",
              "    </tr>\n",
              "    <tr>\n",
              "      <th>Sophie Shepherd</th>\n",
              "      <td>1</td>\n",
              "    </tr>\n",
              "    <tr>\n",
              "      <th>Oliver Obedience</th>\n",
              "      <td>1</td>\n",
              "    </tr>\n",
              "    <tr>\n",
              "      <th>Ruby Ruffington</th>\n",
              "      <td>1</td>\n",
              "    </tr>\n",
              "  </tbody>\n",
              "</table>\n",
              "</div><br><label><b>dtype:</b> int64</label>"
            ]
          },
          "metadata": {},
          "execution_count": 30
        }
      ]
    },
    {
      "cell_type": "code",
      "source": [
        "df['Topic'].value_counts()"
      ],
      "metadata": {
        "colab": {
          "base_uri": "https://localhost:8080/",
          "height": 178
        },
        "id": "HDfJM7r-TqcV",
        "outputId": "63f67fdc-bc09-48c8-faca-5797f8f55f2c"
      },
      "execution_count": 29,
      "outputs": [
        {
          "output_type": "execute_result",
          "data": {
            "text/plain": [
              "Topic\n",
              "Cats    10\n",
              "Dogs     5\n",
              "Name: count, dtype: int64"
            ],
            "text/html": [
              "<div>\n",
              "<style scoped>\n",
              "    .dataframe tbody tr th:only-of-type {\n",
              "        vertical-align: middle;\n",
              "    }\n",
              "\n",
              "    .dataframe tbody tr th {\n",
              "        vertical-align: top;\n",
              "    }\n",
              "\n",
              "    .dataframe thead th {\n",
              "        text-align: right;\n",
              "    }\n",
              "</style>\n",
              "<table border=\"1\" class=\"dataframe\">\n",
              "  <thead>\n",
              "    <tr style=\"text-align: right;\">\n",
              "      <th></th>\n",
              "      <th>count</th>\n",
              "    </tr>\n",
              "    <tr>\n",
              "      <th>Topic</th>\n",
              "      <th></th>\n",
              "    </tr>\n",
              "  </thead>\n",
              "  <tbody>\n",
              "    <tr>\n",
              "      <th>Cats</th>\n",
              "      <td>10</td>\n",
              "    </tr>\n",
              "    <tr>\n",
              "      <th>Dogs</th>\n",
              "      <td>5</td>\n",
              "    </tr>\n",
              "  </tbody>\n",
              "</table>\n",
              "</div><br><label><b>dtype:</b> int64</label>"
            ]
          },
          "metadata": {},
          "execution_count": 29
        }
      ]
    },
    {
      "cell_type": "code",
      "source": [
        "df.groupby('Topic')['Price'].mean()"
      ],
      "metadata": {
        "colab": {
          "base_uri": "https://localhost:8080/",
          "height": 178
        },
        "id": "632MrG66UKES",
        "outputId": "1b154971-db30-46b0-f3a2-e28a9c38adb6"
      },
      "execution_count": 37,
      "outputs": [
        {
          "output_type": "execute_result",
          "data": {
            "text/plain": [
              "Topic\n",
              "Cats    17.79\n",
              "Dogs    26.59\n",
              "Name: Price, dtype: float64"
            ],
            "text/html": [
              "<div>\n",
              "<style scoped>\n",
              "    .dataframe tbody tr th:only-of-type {\n",
              "        vertical-align: middle;\n",
              "    }\n",
              "\n",
              "    .dataframe tbody tr th {\n",
              "        vertical-align: top;\n",
              "    }\n",
              "\n",
              "    .dataframe thead th {\n",
              "        text-align: right;\n",
              "    }\n",
              "</style>\n",
              "<table border=\"1\" class=\"dataframe\">\n",
              "  <thead>\n",
              "    <tr style=\"text-align: right;\">\n",
              "      <th></th>\n",
              "      <th>Price</th>\n",
              "    </tr>\n",
              "    <tr>\n",
              "      <th>Topic</th>\n",
              "      <th></th>\n",
              "    </tr>\n",
              "  </thead>\n",
              "  <tbody>\n",
              "    <tr>\n",
              "      <th>Cats</th>\n",
              "      <td>17.79</td>\n",
              "    </tr>\n",
              "    <tr>\n",
              "      <th>Dogs</th>\n",
              "      <td>26.59</td>\n",
              "    </tr>\n",
              "  </tbody>\n",
              "</table>\n",
              "</div><br><label><b>dtype:</b> float64</label>"
            ]
          },
          "metadata": {},
          "execution_count": 37
        }
      ]
    },
    {
      "cell_type": "code",
      "source": [
        "df.groupby('Topic')['Pages'].mean()"
      ],
      "metadata": {
        "colab": {
          "base_uri": "https://localhost:8080/",
          "height": 178
        },
        "id": "3OldBdIrU7c8",
        "outputId": "74f7ac5d-e32c-4ca2-82a6-a59ba408d535"
      },
      "execution_count": 38,
      "outputs": [
        {
          "output_type": "execute_result",
          "data": {
            "text/plain": [
              "Topic\n",
              "Cats    238.4\n",
              "Dogs    256.0\n",
              "Name: Pages, dtype: float64"
            ],
            "text/html": [
              "<div>\n",
              "<style scoped>\n",
              "    .dataframe tbody tr th:only-of-type {\n",
              "        vertical-align: middle;\n",
              "    }\n",
              "\n",
              "    .dataframe tbody tr th {\n",
              "        vertical-align: top;\n",
              "    }\n",
              "\n",
              "    .dataframe thead th {\n",
              "        text-align: right;\n",
              "    }\n",
              "</style>\n",
              "<table border=\"1\" class=\"dataframe\">\n",
              "  <thead>\n",
              "    <tr style=\"text-align: right;\">\n",
              "      <th></th>\n",
              "      <th>Pages</th>\n",
              "    </tr>\n",
              "    <tr>\n",
              "      <th>Topic</th>\n",
              "      <th></th>\n",
              "    </tr>\n",
              "  </thead>\n",
              "  <tbody>\n",
              "    <tr>\n",
              "      <th>Cats</th>\n",
              "      <td>238.4</td>\n",
              "    </tr>\n",
              "    <tr>\n",
              "      <th>Dogs</th>\n",
              "      <td>256.0</td>\n",
              "    </tr>\n",
              "  </tbody>\n",
              "</table>\n",
              "</div><br><label><b>dtype:</b> float64</label>"
            ]
          },
          "metadata": {},
          "execution_count": 38
        }
      ]
    }
  ]
}